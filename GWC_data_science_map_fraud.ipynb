{
 "cells": [
  {
   "cell_type": "markdown",
   "metadata": {},
   "source": [
    "# Introduction to Catching Fraud"
   ]
  },
  {
   "cell_type": "code",
   "execution_count": null,
   "metadata": {},
   "outputs": [],
   "source": [
    "# import python libraries\n",
    "import folium\n",
    "import pandas as pd\n",
    "import numpy as np"
   ]
  },
  {
   "cell_type": "markdown",
   "metadata": {},
   "source": [
    "### Load data from file into dataframe"
   ]
  },
  {
   "cell_type": "code",
   "execution_count": null,
   "metadata": {},
   "outputs": [],
   "source": [
    "data_pd = pd.read_csv('gwc-risk-dataset.csv')\n",
    "print(data_pd.shape)"
   ]
  },
  {
   "cell_type": "code",
   "execution_count": null,
   "metadata": {},
   "outputs": [],
   "source": [
    "data_pd.head()"
   ]
  },
  {
   "cell_type": "code",
   "execution_count": null,
   "metadata": {},
   "outputs": [],
   "source": [
    "print data_pd['payment_type'].unique()"
   ]
  },
  {
   "cell_type": "code",
   "execution_count": null,
   "metadata": {},
   "outputs": [],
   "source": [
    "print data_pd['disbursement_type'].unique()"
   ]
  },
  {
   "cell_type": "code",
   "execution_count": null,
   "metadata": {},
   "outputs": [],
   "source": [
    "print data_pd['application'].unique()"
   ]
  },
  {
   "cell_type": "code",
   "execution_count": null,
   "metadata": {},
   "outputs": [],
   "source": [
    "print data_pd['recipient_country'].unique()"
   ]
  },
  {
   "cell_type": "code",
   "execution_count": null,
   "metadata": {},
   "outputs": [],
   "source": [
    "print data_pd['fraud_type'].unique()"
   ]
  },
  {
   "cell_type": "code",
   "execution_count": null,
   "metadata": {},
   "outputs": [],
   "source": [
    "locations = data_pd[['sender_device_latitude', 'sender_device_longitude']].drop_duplicates()\n",
    "locations.head()"
   ]
  },
  {
   "cell_type": "code",
   "execution_count": null,
   "metadata": {},
   "outputs": [],
   "source": [
    "# How many locations are there?\n",
    "len(locations)"
   ]
  },
  {
   "cell_type": "markdown",
   "metadata": {},
   "source": [
    "## Calculate fraud rate for every location and plot on a map"
   ]
  },
  {
   "cell_type": "code",
   "execution_count": null,
   "metadata": {},
   "outputs": [],
   "source": [
    "location_stats = []\n",
    "for index, location in locations.iterrows():\n",
    "    latitude = location['sender_device_latitude']\n",
    "    longitude = location['sender_device_longitude']\n",
    "    # create new dataframe with only one lat/long location\n",
    "    loc_data = data_pd[(data_pd['sender_device_latitude'] == latitude) & (data_pd['sender_device_longitude'] == longitude)]\n",
    "    # find the count of transactions that are fraudulent\n",
    "    count_fraud_data = loc_data[loc_data['fraud_type'] != 'None'].shape[0]\n",
    "    # find the count of transactions that are not fraudulent\n",
    "    count_data = loc_data.shape[0]\n",
    "    # calculate the rate of fraud for this location\n",
    "    location_stats.append([latitude, longitude, float(count_fraud_data)/float(count_data)])"
   ]
  },
  {
   "cell_type": "code",
   "execution_count": null,
   "metadata": {},
   "outputs": [],
   "source": [
    "style=['OpenStreetMap','Stamen Terrain','Stamen Toner','Mapbox Bright']\n",
    "Lat_Long_US = [39.6150518,-101.1868806]\n",
    "m = folium.Map(location=Lat_Long_US, zoom_start=4, tiles=style[0])\n",
    "m"
   ]
  },
  {
   "cell_type": "code",
   "execution_count": null,
   "metadata": {},
   "outputs": [],
   "source": [
    "# For every location, plot a circle on the map\n",
    "for i, (latitude, longitude, fraud_rate) in enumerate(location_stats):\n",
    "    if fraud_rate < 0.1:\n",
    "        color = 'green'\n",
    "    elif fraud_rate < 0.15:\n",
    "        color = 'yellow'\n",
    "    elif fraud_rate < 0.25:\n",
    "        color = 'orange'\n",
    "    else:\n",
    "        color = 'red'\n",
    "    folium.CircleMarker(\n",
    "        location=[latitude, longitude],\n",
    "        popup='%.2f percent fraud rate, %s, %s' % (fraud_rate, latitude, longitude),\n",
    "        color=color,\n",
    "        radius = 10,\n",
    "        fill=True,\n",
    "        fill_color=color\n",
    "    ).add_to(m)\n",
    "    \n",
    "m"
   ]
  },
  {
   "cell_type": "markdown",
   "metadata": {},
   "source": [
    "Look closely at the dark red circle in Minnesota, we caught one fraud ring!"
   ]
  },
  {
   "cell_type": "markdown",
   "metadata": {},
   "source": [
    "### How can we see the fraud more clearly?"
   ]
  },
  {
   "cell_type": "markdown",
   "metadata": {},
   "source": [
    "##### Create radius scale"
   ]
  },
  {
   "cell_type": "code",
   "execution_count": null,
   "metadata": {},
   "outputs": [],
   "source": [
    "# set a minimum and maximum value for the radius of each circle\n",
    "radius_scale = [5, 20]\n",
    "# set a minimum and maximum value for the fraud rate of each location\n",
    "data_scale = [0, 1]\n",
    "# Now, given a fraud rate of 0.5, what radius should our circle be?\n",
    "np.interp(0.5,data_scale, radius_scale)"
   ]
  },
  {
   "cell_type": "markdown",
   "metadata": {},
   "source": [
    "##### Create color scale"
   ]
  },
  {
   "cell_type": "code",
   "execution_count": null,
   "metadata": {},
   "outputs": [],
   "source": [
    "# create a list of colors (from green to red)\n",
    "color_scale = ['#1a9641','#a6d96a','#fee08b','#fdae61', '#d7191c']\n",
    "# create a list of bins\n",
    "color_bin = [0, 0.11, 0.12, 0.14, 0.90, 1]\n",
    "# Now, given a fraud rate of 0.45, what color should our circle be?\n",
    "pd.cut([0.45],color_bin,labels=color_scale)[0]"
   ]
  },
  {
   "cell_type": "code",
   "execution_count": null,
   "metadata": {},
   "outputs": [],
   "source": [
    "m = folium.Map(\n",
    "    location=Lat_Long_US,\n",
    "    zoom_start=4,\n",
    "    tiles=style[0]\n",
    "    )\n",
    "\n",
    "for i, (latitude, longitude, fraud_rate) in enumerate(location_stats):\n",
    "    color = pd.cut([fraud_rate],color_bin,labels=color_scale)[0]\n",
    "    folium.CircleMarker(\n",
    "        location=[latitude, longitude],\n",
    "        popup='%.2f percent fraud rate' % fraud_rate,\n",
    "        color=color,\n",
    "        radius = np.interp(fraud_rate,data_scale, radius_scale),\n",
    "        fill=True,\n",
    "        fill_color=color\n",
    "    ).add_to(m)\n",
    "    \n",
    "m"
   ]
  },
  {
   "cell_type": "markdown",
   "metadata": {},
   "source": [
    "## How much fraud is there?"
   ]
  },
  {
   "cell_type": "code",
   "execution_count": null,
   "metadata": {},
   "outputs": [],
   "source": [
    "pd.crosstab(index=data_pd['fraud_type'], columns='Count')"
   ]
  },
  {
   "cell_type": "code",
   "execution_count": null,
   "metadata": {},
   "outputs": [],
   "source": [
    "pd.crosstab(index=data_pd['application'], columns=data_pd['fraud_type'])"
   ]
  },
  {
   "cell_type": "code",
   "execution_count": null,
   "metadata": {},
   "outputs": [],
   "source": [
    "pd.crosstab(index=data_pd['payment_type'], columns=data_pd['fraud_type'])"
   ]
  },
  {
   "cell_type": "code",
   "execution_count": null,
   "metadata": {},
   "outputs": [],
   "source": [
    "pd.crosstab(index=data_pd['disbursement_type'], columns=data_pd['fraud_type'])"
   ]
  },
  {
   "cell_type": "code",
   "execution_count": null,
   "metadata": {},
   "outputs": [],
   "source": [
    "data_pd['is_fraud'] = data_pd['fraud_type'].apply(lambda x: 0 if x == 'None' else 1)\n",
    "pd.crosstab(index=data_pd['disbursement_type'], columns=data_pd['is_fraud'])"
   ]
  },
  {
   "cell_type": "code",
   "execution_count": null,
   "metadata": {},
   "outputs": [],
   "source": [
    "country_data = pd.crosstab(index=data_pd['recipient_country'], columns=data_pd['is_fraud'])\n",
    "country_data.head()"
   ]
  },
  {
   "cell_type": "markdown",
   "metadata": {},
   "source": [
    "### What country has the most fraudulent transactions?"
   ]
  },
  {
   "cell_type": "code",
   "execution_count": null,
   "metadata": {},
   "outputs": [],
   "source": [
    "country_data.loc[country_data[1].idxmax()]"
   ]
  },
  {
   "cell_type": "code",
   "execution_count": null,
   "metadata": {},
   "outputs": [],
   "source": [
    "country_data.sort_values(by=[1], ascending=False)"
   ]
  },
  {
   "cell_type": "markdown",
   "metadata": {},
   "source": [
    "### Can we narrow down the fraud trend for SI?"
   ]
  },
  {
   "cell_type": "code",
   "execution_count": null,
   "metadata": {},
   "outputs": [],
   "source": [
    "# hint, try running similar lines from above like crosstab to see fraud \n",
    "# trends on the subset data, country_data.\n",
    "\n",
    "mx_data = data_pd[data_pd['recipient_country'] == 'MX']\n",
    "mx_data.head()"
   ]
  },
  {
   "cell_type": "code",
   "execution_count": null,
   "metadata": {},
   "outputs": [],
   "source": [
    "pd.crosstab(index=mx_data['application'], columns=mx_data['is_fraud'])"
   ]
  },
  {
   "cell_type": "code",
   "execution_count": null,
   "metadata": {},
   "outputs": [],
   "source": [
    "pd.crosstab(index=mx_data['disbursement_type'], columns=mx_data['is_fraud'])"
   ]
  },
  {
   "cell_type": "code",
   "execution_count": null,
   "metadata": {},
   "outputs": [],
   "source": [
    "mx_cp_data = mx_data[mx_data['disbursement_type'] == 'cash pickup']\n",
    "mx_cp_data.head()"
   ]
  },
  {
   "cell_type": "code",
   "execution_count": null,
   "metadata": {},
   "outputs": [],
   "source": [
    "count_fraud_data = mx_cp_data[mx_cp_data['is_fraud'] == 1].shape[0]\n",
    "count_data = mx_cp_data.shape[0]\n",
    "print float(count_fraud_data)/count_data"
   ]
  },
  {
   "cell_type": "markdown",
   "metadata": {},
   "source": [
    "Wow, a fraud rate of over 97%, we caught another fraud ring!"
   ]
  },
  {
   "cell_type": "markdown",
   "metadata": {},
   "source": [
    "## Further Exercise"
   ]
  },
  {
   "cell_type": "markdown",
   "metadata": {},
   "source": [
    "### Can you catch the last fraud ring?"
   ]
  },
  {
   "cell_type": "markdown",
   "metadata": {},
   "source": [
    "Here's some example code to get you started:"
   ]
  },
  {
   "cell_type": "code",
   "execution_count": null,
   "metadata": {},
   "outputs": [],
   "source": [
    "# Remove mexico, cash pickup data, since we already established it as a fraud ring\n",
    "data_pd = data_pd[data_pd['recipient_country'] != 'MX']\n",
    "data_pd = data_pd[data_pd['disbursement_type'] != 'cash_pickup']"
   ]
  },
  {
   "cell_type": "code",
   "execution_count": null,
   "metadata": {},
   "outputs": [],
   "source": [
    "# Use crosstab to identify another trend\n",
    "pd.crosstab(index=data_pd['application'], columns=data_pd['is_fraud'])"
   ]
  },
  {
   "cell_type": "code",
   "execution_count": null,
   "metadata": {},
   "outputs": [],
   "source": [
    "data_pd = data_pd[data_pd['application'] == 'web']\n",
    "pd.crosstab(index=data_pd['disbursement_type'], columns=data_pd['is_fraud'])"
   ]
  }
 ],
 "metadata": {
  "kernelspec": {
   "display_name": "Python 2",
   "language": "python",
   "name": "python2"
  },
  "language_info": {
   "codemirror_mode": {
    "name": "ipython",
    "version": 2
   },
   "file_extension": ".py",
   "mimetype": "text/x-python",
   "name": "python",
   "nbconvert_exporter": "python",
   "pygments_lexer": "ipython2",
   "version": "2.7.15"
  }
 },
 "nbformat": 4,
 "nbformat_minor": 2
}
