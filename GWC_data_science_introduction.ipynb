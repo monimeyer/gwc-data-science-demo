{
 "cells": [
  {
   "cell_type": "markdown",
   "metadata": {},
   "source": [
    "### Map Visualization using Python and Folium\n",
    "\n",
    "\n",
    "Hi, today we are going to learn more on Python and a Package called Folium!!\n",
    "\n",
    "As a data scientist, we work with a lot of data every day. Sometimes, in order to work more efficiently and present results more vividly, we need to utilize powerful tools such as visualization. \n",
    "\n",
    "Folium a good python package for visualization. It has a lot of cool functions, and it produces many of the amazing map views. \n",
    "\n",
    "Today, we are going to show you a little bit of this package, as well as some basic concept in Python \n",
    "\n",
    "So hopefully by the end of the day, you will be able to create your favorite map view with your favorite place in the world. "
   ]
  },
  {
   "cell_type": "markdown",
   "metadata": {},
   "source": [
    "### A Quick Intro of Jupyter Notebook"
   ]
  },
  {
   "cell_type": "markdown",
   "metadata": {},
   "source": [
    "### Getting Started\n",
    "http://localhost:8888/notebooks/GWC_data_science_introduction.ipynb"
   ]
  },
  {
   "cell_type": "code",
   "execution_count": null,
   "metadata": {},
   "outputs": [],
   "source": [
    "# import the library\n",
    "import folium"
   ]
  },
  {
   "cell_type": "markdown",
   "metadata": {},
   "source": [
    "### First, let us use folium to plot the map of Portland, Oregon"
   ]
  },
  {
   "cell_type": "code",
   "execution_count": null,
   "metadata": {},
   "outputs": [],
   "source": [
    "# Lat, Lon of Portland: 45°52'36\"N 122°67'5\"W\n",
    "\n",
    "# define a folium map object - m, by specify the lat and lon of the location you want to show\n",
    "m = folium.Map(location=[45.5236, -122.675])\n",
    "\n",
    "# visualize m\n",
    "m"
   ]
  },
  {
   "cell_type": "markdown",
   "metadata": {},
   "source": [
    "### Given latitude and longitude of San Francisco, can you plot the map of SF?"
   ]
  },
  {
   "cell_type": "code",
   "execution_count": null,
   "metadata": {},
   "outputs": [],
   "source": [
    "Lat_Long_SF=[37.76,-122.42]"
   ]
  },
  {
   "cell_type": "code",
   "execution_count": null,
   "metadata": {},
   "outputs": [],
   "source": [
    "m = folium.Map(location = Lat_Long_SF)\n",
    "m"
   ]
  },
  {
   "cell_type": "markdown",
   "metadata": {},
   "source": [
    "### Second, let us play with different Mapping Style"
   ]
  },
  {
   "cell_type": "code",
   "execution_count": null,
   "metadata": {},
   "outputs": [],
   "source": [
    "# Note, Lat_Long_SF is a list defined earlier, we are simply referencing it\n",
    "# Lat_Long_SF=[37.74,-122.42]\n",
    "\n",
    "# specify the tiles to be 'Mapbox Bright'\n",
    "m = folium.Map(location = Lat_Long_SF, \n",
    "               tiles='Mapbox Bright')  \n",
    "\n",
    "# Let us change it to ''Stamen Terrain', see what happens?\n",
    "m"
   ]
  },
  {
   "cell_type": "markdown",
   "metadata": {},
   "source": [
    "### Introducing Python list index"
   ]
  },
  {
   "cell_type": "code",
   "execution_count": null,
   "metadata": {},
   "outputs": [],
   "source": [
    "style=['OpenStreetMap','Stamen Terrain','Stamen Toner','Mapbox Bright']\n",
    "print(style[3])"
   ]
  },
  {
   "cell_type": "code",
   "execution_count": null,
   "metadata": {},
   "outputs": [],
   "source": [
    "#Lat_Long_SF=[37.74,-122.42]\n",
    "m = folium.Map(location=Lat_Long_SF, tiles=style[3]) \n",
    "# change it to 0,1,2,3, see what happens?\n",
    "\n",
    "m"
   ]
  },
  {
   "cell_type": "markdown",
   "metadata": {},
   "source": [
    "#### Questions: how many map style options there are?\n"
   ]
  },
  {
   "cell_type": "code",
   "execution_count": null,
   "metadata": {},
   "outputs": [],
   "source": [
    "# we can call the len method on the list, to see how many elements in that list\n",
    "# Currently we have 4 different map style options we can choose from \n",
    "\n",
    "len(style)  "
   ]
  },
  {
   "cell_type": "markdown",
   "metadata": {},
   "source": [
    "### Now, let us work on the fun parts. \n",
    "\n",
    "We are going to create a map, and then add a few landmarks on the map.\n",
    "Let us pick a place in Portland, Orgeon; \n",
    "\n",
    "Later you will learn how to apply the same skills you learned here to San Francisco "
   ]
  },
  {
   "cell_type": "code",
   "execution_count": null,
   "metadata": {},
   "outputs": [],
   "source": [
    "# First, set up the general location of Mt Hood National Forest in Portland, Oregon\n",
    "\n",
    "m = folium.Map(\n",
    "    location=[45.372, -121.6972],\n",
    "    zoom_start=8.5,\n",
    "    tiles=style[0]\n",
    ")\n",
    "m"
   ]
  },
  {
   "cell_type": "code",
   "execution_count": null,
   "metadata": {},
   "outputs": [],
   "source": [
    "# Let us have a more zoomed-in view, so we see more clearly\n",
    "# in order to do that, we simply chnage the zoom_start to 12\n",
    "# the bigger the value is, the more zoomed-in view \n",
    "\n",
    "m.zoom_start = 12\n",
    "\n",
    "# Think of m, as our foundation map layer, Now we are going to add more Marker to it\n",
    "\n",
    "# Landmark1 - Mt Hood Meadows; cloud icon\n",
    "folium.Marker(\n",
    "    location=[45.3288, -121.6625],\n",
    "    popup='Mt. Hood Meadows',\n",
    "    icon=folium.Icon(icon='cloud')\n",
    ").add_to(m)\n",
    "\n",
    "# # Landmark2 - Timberline Lodge; green\n",
    "# folium.Marker(\n",
    "#     location=[45.3311, -121.7113],\n",
    "#     popup='Timberline Lodge',\n",
    "#     icon=folium.Icon(color='green')\n",
    "# ).add_to(m)\n",
    "\n",
    "# # Landmark3 - Mt Hood Meadows; info-sign\n",
    "# folium.Marker(\n",
    "#     location=[45.3300, -121.6823],\n",
    "#     popup='Some Other Location',\n",
    "#     icon=folium.Icon(color='red', icon='info-sign')\n",
    "# ).add_to(m)\n",
    "\n",
    "\n",
    "m"
   ]
  },
  {
   "cell_type": "markdown",
   "metadata": {},
   "source": [
    "### Ready for some hands on?\n",
    "### Hands on: Let's find and put our favorite places in SF"
   ]
  },
  {
   "cell_type": "code",
   "execution_count": null,
   "metadata": {},
   "outputs": [],
   "source": [
    "# first let us find the background layer\n",
    "\n",
    "#Lat_Long_SF = [37.76,-122.43]\n",
    "\n",
    "m_sf = folium.Map(\n",
    "    location=Lat_Long_SF,\n",
    "    tiles=style[0],\n",
    "    zoom_start=12  \n",
    ")\n",
    "m_sf"
   ]
  },
  {
   "cell_type": "markdown",
   "metadata": {},
   "source": [
    "#### Let us add a few places we feel proud of, as a resident in SF\n",
    "#### Where did you take your friends and family last time they are in SF?\n",
    "\n",
    "Here is what I have got from the web, cool thing is Ipython Notebook has the ability to insert image on the notebook."
   ]
  },
  {
   "cell_type": "code",
   "execution_count": null,
   "metadata": {},
   "outputs": [],
   "source": [
    "from IPython.display import Image\n",
    "Image(filename='Top_places_to_go_SF.png') "
   ]
  },
  {
   "cell_type": "code",
   "execution_count": null,
   "metadata": {},
   "outputs": [],
   "source": [
    "# first, let us add Golden Gate Bridge\n",
    "del m_sf\n",
    "\n",
    "Lat_Long_SF = [37.80,-122.43]\n",
    "\n",
    "m_sf = folium.Map(\n",
    "    location=Lat_Long_SF,\n",
    "    tiles=style[0],\n",
    "    zoom_start=13  \n",
    ")\n",
    "m_sf\n",
    "\n",
    "folium.CircleMarker(\n",
    "    location=[37.8199328,-122.4804438],\n",
    "    radius=50,\n",
    "    popup = 'A must visit!',\n",
    "    color = 'blue',\n",
    "    fill = True,\n",
    "    fill_color='blue'\n",
    ").add_to(m_sf)\n",
    "\n",
    "\n",
    "# Fisherman's Wharf\n",
    "folium.CircleMarker(\n",
    "    radius=20,\n",
    "    location=[37.8081102,-122.4210084],\n",
    "    popup = \"Great Clam Chowder\",\n",
    "    color='red',\n",
    "    fill= True\n",
    ").add_to(m_sf)\n",
    "\n",
    "\n",
    "# One place that we would like to come work every day!!!\n",
    "folium.CircleMarker(\n",
    "    radius=20,\n",
    "    location=[37.7911914,-122.4158142],\n",
    "    popup='XOOM, where you ARE',\n",
    "    color='green',\n",
    "    fill=True,\n",
    ").add_to(m_sf)\n",
    "\n",
    "\n",
    "m_sf"
   ]
  },
  {
   "cell_type": "markdown",
   "metadata": {},
   "source": [
    "### Can you add more locations? What is your favorite place in San Francisco?"
   ]
  },
  {
   "cell_type": "code",
   "execution_count": null,
   "metadata": {},
   "outputs": [],
   "source": [
    "%ls"
   ]
  },
  {
   "cell_type": "code",
   "execution_count": null,
   "metadata": {},
   "outputs": [],
   "source": [
    "Image(filename='bubba_guys.jpg') "
   ]
  },
  {
   "cell_type": "code",
   "execution_count": null,
   "metadata": {},
   "outputs": [],
   "source": [
    "Image(filename='stawberry_matcha_latte.jpg') "
   ]
  },
  {
   "cell_type": "markdown",
   "metadata": {},
   "source": [
    "### NOW, What is your favoriate place in SF, can you put that in the map?\n",
    "\n",
    "Try it yourself, put one or two your favoriate spots in San Francisco, using the skills you have just learned\n",
    "\n",
    "- your home?\n",
    "- your favoriate cafe or resturant?\n",
    "- your favoriate beach or park?"
   ]
  },
  {
   "cell_type": "code",
   "execution_count": null,
   "metadata": {},
   "outputs": [],
   "source": [
    "# step 1, set up the background map\n",
    "m_sf = folium.Map(\n",
    "    location=[37.74,-122.42],\n",
    "    tiles=style[0],\n",
    "    zoom_start=12  \n",
    ")\n",
    "\n",
    "# step2, add your favoriate location\n",
    "\n",
    "\n",
    "m_sf"
   ]
  },
  {
   "cell_type": "markdown",
   "metadata": {},
   "source": [
    "### Excise for Stellar Learner: \n",
    "- Given what you have learned, Can you create a map view with your favoriate locations of another city, or country? Say China? "
   ]
  },
  {
   "cell_type": "code",
   "execution_count": null,
   "metadata": {},
   "outputs": [],
   "source": []
  }
 ],
 "metadata": {
  "kernelspec": {
   "display_name": "Python 2",
   "language": "python",
   "name": "python2"
  },
  "language_info": {
   "codemirror_mode": {
    "name": "ipython",
    "version": 2
   },
   "file_extension": ".py",
   "mimetype": "text/x-python",
   "name": "python",
   "nbconvert_exporter": "python",
   "pygments_lexer": "ipython2",
   "version": "2.7.14"
  }
 },
 "nbformat": 4,
 "nbformat_minor": 2
}
