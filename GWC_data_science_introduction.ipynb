{
 "cells": [
  {
   "cell_type": "markdown",
   "metadata": {},
   "source": [
    "### Self Introduction "
   ]
  },
  {
   "cell_type": "markdown",
   "metadata": {},
   "source": [
    "### Map Visualization using Python and Folium\n",
    "\n",
    "\n",
    "Hi, today we are going to learn more on Python and a Package called Folium!!\n",
    "\n",
    "As a data scientist, we work with a lot of data every day. Sometimes, in order to work more efficiently and present results more vividly, we need to utilize powerful tools such as visualization. \n",
    "\n",
    "Folium a good python package for visualization. It has a lot of cool functions, and it produces many of the amazing map views. \n",
    "\n",
    "Today, we are going to show you a little bit of this package, as well as some basic concept in Python \n",
    "\n",
    "So hopefully by the end of the day, you will be able to create your favorite map view with your favorite place in the world. "
   ]
  },
  {
   "cell_type": "markdown",
   "metadata": {},
   "source": [
    "### Getting Started - A Quick Intro of Jupyter Notebook\n",
    "\n",
    "- command box - sign of finishing running (number shown up)\n",
    "- shortcut: shift + return or 'Run' button\n",
    "- make sure the command box is run sequentially, especially in the demo round"
   ]
  },
  {
   "cell_type": "code",
   "execution_count": null,
   "metadata": {
    "collapsed": true
   },
   "outputs": [],
   "source": [
    "# import the library\n",
    "import folium"
   ]
  },
  {
   "cell_type": "markdown",
   "metadata": {},
   "source": [
    "### First, let us use folium to plot the map of Portland, Oregon"
   ]
  },
  {
   "cell_type": "code",
   "execution_count": null,
   "metadata": {},
   "outputs": [],
   "source": [
    "# Lat, Lon of Portland: 45°52'36\"N 122°67'5\"W\n",
    "\n",
    "# define a folium map object - m, by specify the lat and lon of the location you want to show\n",
    "m = folium.Map(location=[45.5236, -122.675])\n",
    "\n",
    "# visualize m\n",
    "m"
   ]
  },
  {
   "cell_type": "markdown",
   "metadata": {},
   "source": [
    "### Given latitude and longitude of San Francisco, can you plot the map of SF?"
   ]
  },
  {
   "cell_type": "code",
   "execution_count": null,
   "metadata": {
    "collapsed": true
   },
   "outputs": [],
   "source": [
    "Lat_Long_SF=[37.76,-122.42]"
   ]
  },
  {
   "cell_type": "code",
   "execution_count": null,
   "metadata": {},
   "outputs": [],
   "source": [
    "m = folium.Map(location = Lat_Long_SF)   # change Lat_Lon_SF to [37.76,-122.42], see whether you see the same view\n",
    "m "
   ]
  },
  {
   "cell_type": "markdown",
   "metadata": {},
   "source": [
    "### Second, let us play with different Mapping Style"
   ]
  },
  {
   "cell_type": "code",
   "execution_count": null,
   "metadata": {},
   "outputs": [],
   "source": [
    "# Note, Lat_Long_SF is a list defined earlier, we are simply referencing it\n",
    "# Lat_Long_SF=[37.74,-122.42]\n",
    "\n",
    "# specify the tiles to be 'Mapbox Bright' (2nd argumnet)\n",
    "m = folium.Map(location = Lat_Long_SF, \n",
    "               tiles='Mapbox Bright')  \n",
    "\n",
    "# Let us change it to ''Stamen Terrain', see what happens?\n",
    "m"
   ]
  },
  {
   "cell_type": "markdown",
   "metadata": {},
   "source": [
    "### Introducing Python list index"
   ]
  },
  {
   "cell_type": "code",
   "execution_count": null,
   "metadata": {},
   "outputs": [],
   "source": [
    "style=['OpenStreetMap','Stamen Terrain','Stamen Toner','Mapbox Bright']\n",
    "print(style[0])  # fill in a number, e.g. 2 "
   ]
  },
  {
   "cell_type": "code",
   "execution_count": null,
   "metadata": {},
   "outputs": [],
   "source": [
    "# Lat_Long_SF=[37.74,-122.42]\n",
    "m = folium.Map(location=Lat_Long_SF, \n",
    "               tiles=style[0]) \n",
    "# change it to 0,1,2,3, see what happens?\n",
    "\n",
    "m"
   ]
  },
  {
   "cell_type": "markdown",
   "metadata": {},
   "source": [
    "#### Questions: how many map style options there are?\n"
   ]
  },
  {
   "cell_type": "code",
   "execution_count": null,
   "metadata": {},
   "outputs": [],
   "source": [
    "# we can call the len method on the list, to see how many elements in that list\n",
    "# Currently we have 4 different map style options we can choose from \n",
    "\n",
    "len(style)  "
   ]
  },
  {
   "cell_type": "markdown",
   "metadata": {},
   "source": [
    "### Now, let us work on the fun parts. \n",
    "\n",
    "We are going to create a map, and then add a few landmarks on the map.\n",
    "Let us pick use a map of San Francisco; "
   ]
  },
  {
   "cell_type": "markdown",
   "metadata": {},
   "source": [
    "### Let's find and put our favorite places in SF"
   ]
  },
  {
   "cell_type": "code",
   "execution_count": null,
   "metadata": {},
   "outputs": [],
   "source": [
    "# first let us find the background layer - city of San Francisco\n",
    "\n",
    "Lat_Long_SF = [37.8,-122.43]\n",
    "\n",
    "m_sf = folium.Map(\n",
    "    location = Lat_Long_SF,\n",
    "    tiles = 'OpenStreetMap',  \n",
    "    zoom_start=12  # defined how you want the map view to be xoomed\n",
    ")\n",
    "\n",
    "m_sf"
   ]
  },
  {
   "cell_type": "markdown",
   "metadata": {},
   "source": [
    "#### Let us add a few places we feel proud of, as a resident in SF\n",
    "#### Where did you take your friends and family last time they are in SF?\n",
    "\n",
    "Here is what I have got from the web, cool thing is Ipython Notebook has the ability to insert image on the notebook."
   ]
  },
  {
   "cell_type": "code",
   "execution_count": null,
   "metadata": {},
   "outputs": [],
   "source": [
    "from IPython.display import Image\n",
    "Image(filename='Top_places_to_go_SF.png') "
   ]
  },
  {
   "cell_type": "code",
   "execution_count": null,
   "metadata": {},
   "outputs": [],
   "source": [
    "# First, Let us plot our basic layer- the map of San Francisco\n",
    "\n",
    "Lat_Long_SF = [37.80,-122.43]\n",
    "\n",
    "m_sf = folium.Map(\n",
    "    location=Lat_Long_SF,\n",
    "    tiles=style[0],\n",
    "    zoom_start=13  # note, we changed the zoom_start from 12 to 13, to have a slightly more detailed map view\n",
    ")\n",
    "m_sf"
   ]
  },
  {
   "cell_type": "code",
   "execution_count": null,
   "metadata": {},
   "outputs": [],
   "source": [
    "# First, let us add Golden Gate Bridge\n",
    "folium.CircleMarker(\n",
    "    location=[37.8199328,-122.4804438],\n",
    "    radius=50,\n",
    "    popup = 'A must visit!',\n",
    "    color = 'blue',\n",
    "    fill = True,\n",
    "    fill_color='blue'\n",
    ").add_to(m_sf)\n",
    "\n",
    "m_sf"
   ]
  },
  {
   "cell_type": "code",
   "execution_count": null,
   "metadata": {},
   "outputs": [],
   "source": [
    "# Fisherman's Wharf\n",
    "\n",
    "# lat, lon of Fisherman's Wharf is 37.8081102,-122.4210084\n",
    "\n",
    "folium.CircleMarker(\n",
    "    radius = 20,\n",
    "    location = [ 37.8081102,   -122.4210084 ],   \n",
    "    popup = \"Best Clam Chowder\", \n",
    "    color ='red', # change to green or yellow\n",
    "    fill = True\n",
    ").add_to(m_sf)\n",
    "\n",
    "m_sf"
   ]
  },
  {
   "cell_type": "code",
   "execution_count": null,
   "metadata": {},
   "outputs": [],
   "source": [
    "# One place that we enjoy coming to work every day!!!\n",
    "\n",
    "folium.CircleMarker(\n",
    "    radius=20,\n",
    "    location=[],  # fill in the lat, lon, by looking it where Xoom is, using GoogleMap\n",
    "    popup='whatever comment you would like to say', # change the content inside the quote\n",
    "    color='green',\n",
    "    fill=True,\n",
    ").add_to(m_sf)\n",
    "\n",
    "\n",
    "m_sf"
   ]
  },
  {
   "cell_type": "markdown",
   "metadata": {},
   "source": [
    "### Can you add more locations? What is your favorite place in San Francisco?"
   ]
  },
  {
   "cell_type": "code",
   "execution_count": null,
   "metadata": {},
   "outputs": [],
   "source": [
    "Image(filename='boba_guys.jpg') "
   ]
  },
  {
   "cell_type": "code",
   "execution_count": null,
   "metadata": {},
   "outputs": [],
   "source": [
    "Image(filename='stawberry_matcha_latte.jpg') "
   ]
  },
  {
   "cell_type": "code",
   "execution_count": null,
   "metadata": {},
   "outputs": [],
   "source": [
    "del m_sf\n",
    "\n",
    "# Let us review, and also zoomed in \n",
    "\n",
    "Lat_Long_SF = [37.80,-122.41]\n",
    "\n",
    "m_sf = folium.Map(\n",
    "    location=Lat_Long_SF,\n",
    "    tiles=style[0],\n",
    "    zoom_start=14\n",
    ")\n",
    "\n",
    "folium.CircleMarker(\n",
    "    radius = 40,\n",
    "    location = [ 37.8081102,   -122.4210084 ],   \n",
    "    popup = \"Fisherman Wharf - Best Clam Chowder\", \n",
    "    color ='red', # change to green or yellow\n",
    "    fill = True\n",
    ").add_to(m_sf)\n",
    "\n",
    "\n",
    "folium.CircleMarker(\n",
    "    radius = 10,\n",
    "    location = [ 37.7911914,-122.4004934 ],   \n",
    "    popup = \"Xoom - Best Work Place Ever\", \n",
    "    color ='green', # change to green or yellow\n",
    "    fill = True\n",
    ").add_to(m_sf)\n",
    "\n",
    "m_sf"
   ]
  },
  {
   "cell_type": "code",
   "execution_count": null,
   "metadata": {},
   "outputs": [],
   "source": [
    "# Now, let us find and plot this delicious boba tea place!\n",
    "folium.CircleMarker(\n",
    "    radius = ,   # fill in a number e.g. 10 or 20\n",
    "    location = [ ],   # fill in the lat, lon of Boba tea place\n",
    "    popup = \"Delicious Boba Tea near Union Square\", \n",
    "    color = '', # pick a color you like, e,g, 'purple'\n",
    "    fill = True\n",
    ").add_to(m_sf)\n",
    "\n",
    "m_sf"
   ]
  },
  {
   "cell_type": "markdown",
   "metadata": {},
   "source": [
    "### NOW, What is your favoriate place in SF, can you put that in the map?\n",
    "\n",
    "Try it yourself, put one or two your favoriate spots in San Francisco, using the skills you have just learned\n",
    "\n",
    "- your home?\n",
    "- your favoriate cafe or resturant?\n",
    "- your favoriate beach or park?"
   ]
  },
  {
   "cell_type": "markdown",
   "metadata": {},
   "source": [
    "#### Please use the following starter kit to put your favoriate place in SF "
   ]
  },
  {
   "cell_type": "code",
   "execution_count": null,
   "metadata": {},
   "outputs": [],
   "source": [
    "# step 1, set up the background map\n",
    "G_sf = folium.Map(\n",
    "    location=[37.74,-122.42],\n",
    "    tiles=style[0],\n",
    "    zoom_start=12  \n",
    ")\n",
    "\n",
    "# step2, add your favoriate location, like you have just learned\n",
    "folium.CircleMarker(\n",
    "# fill in\n",
    "    \n",
    "    \n",
    ").add_to(G_sf)\n",
    "\n",
    "\n",
    "G_sf"
   ]
  },
  {
   "cell_type": "markdown",
   "metadata": {},
   "source": [
    "### Further Exercise: \n",
    "- Given what you have learned, Can you create a map view with your favoriate locations of another city, or country? Say China? "
   ]
  },
  {
   "cell_type": "code",
   "execution_count": null,
   "metadata": {
    "collapsed": true
   },
   "outputs": [],
   "source": []
  }
 ],
 "metadata": {
  "kernelspec": {
   "display_name": "Python 2",
   "language": "python",
   "name": "python2"
  },
  "language_info": {
   "codemirror_mode": {
    "name": "ipython",
    "version": 2
   },
   "file_extension": ".py",
   "mimetype": "text/x-python",
   "name": "python",
   "nbconvert_exporter": "python",
   "pygments_lexer": "ipython2",
   "version": "2.7.14"
  }
 },
 "nbformat": 4,
 "nbformat_minor": 2
}
